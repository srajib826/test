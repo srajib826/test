{
 "cells": [
  {
   "cell_type": "code",
   "execution_count": 2,
   "id": "17139e1d-f29b-44d6-84c9-18319b5c86a0",
   "metadata": {},
   "outputs": [],
   "source": [
    "import numpy as np"
   ]
  },
  {
   "cell_type": "code",
   "execution_count": 10,
   "id": "44a1d77d-1b33-43aa-a945-f7875b3d9b54",
   "metadata": {},
   "outputs": [
    {
     "name": "stdout",
     "output_type": "stream",
     "text": [
      "[1.+0.j 2.+0.j 3.+0.j]\n",
      "1\n",
      "complex128\n",
      "(3,)\n"
     ]
    }
   ],
   "source": [
    "a = np.array([1,2,3],dtype= complex)\n",
    "print(a)\n",
    "print(a.ndim)\n",
    "print(a.dtype)\n",
    "print(a.shape)"
   ]
  },
  {
   "cell_type": "code",
   "execution_count": 8,
   "id": "c8d6d104-e156-48a8-aa36-e9232ea6df10",
   "metadata": {},
   "outputs": [
    {
     "name": "stdout",
     "output_type": "stream",
     "text": [
      "[[1. 2. 3.]\n",
      " [2. 3. 4.]]\n",
      "2\n",
      "float64\n",
      "(2, 3)\n"
     ]
    }
   ],
   "source": [
    "a = np.array([\n",
    "    [1,2,3],\n",
    "    [2.,3.,4.]\n",
    "])\n",
    "print(a)\n",
    "print(a.ndim)\n",
    "print(a.dtype)\n",
    "print(a.shape)"
   ]
  },
  {
   "cell_type": "code",
   "execution_count": 9,
   "id": "e18acb93-2990-4fcd-a497-e7dfa1fdba0e",
   "metadata": {},
   "outputs": [
    {
     "name": "stdout",
     "output_type": "stream",
     "text": [
      "[[[ 1  2  3]\n",
      "  [ 8  9  6]]\n",
      "\n",
      " [[ 5  6  3]\n",
      "  [44 55 66]]]\n",
      "3\n",
      "int32\n",
      "(2, 2, 3)\n"
     ]
    }
   ],
   "source": [
    "a = np.array([\n",
    "    [[1,2,3],\n",
    "    [8,9,6]],\n",
    "\n",
    "    [[5,6,3],\n",
    "    [44,55,66]]\n",
    "])\n",
    "print(a)\n",
    "print(a.ndim)\n",
    "print(a.dtype)\n",
    "print(a.shape)"
   ]
  },
  {
   "cell_type": "code",
   "execution_count": 12,
   "id": "0684d1ab-7166-4ae7-9b81-eb543cdd56de",
   "metadata": {},
   "outputs": [
    {
     "name": "stdout",
     "output_type": "stream",
     "text": [
      "[[0. 0. 0. 0. 0.]\n",
      " [0. 0. 0. 0. 0.]\n",
      " [0. 0. 0. 0. 0.]]\n"
     ]
    }
   ],
   "source": [
    "null = np.zeros((3,5))\n",
    "print(null)"
   ]
  },
  {
   "cell_type": "code",
   "execution_count": 19,
   "id": "8dbb0ebc-e42d-4376-938a-e66ddb70b504",
   "metadata": {},
   "outputs": [
    {
     "data": {
      "text/plain": [
       "array([[ 172,  186,  200,  214],\n",
       "       [ 850,  927, 1004, 1081],\n",
       "       [2068, 2262, 2456, 2650],\n",
       "       [3826, 4191, 4556, 4921]])"
      ]
     },
     "execution_count": 19,
     "metadata": {},
     "output_type": "execute_result"
    }
   ],
   "source": [
    "ones = np.ones((2,4))\n",
    "ones=10 * ones\n",
    "#print(ones)\n",
    "arr = np.arange(1,13).reshape(4,3)\n",
    "\n",
    "arr = arr**2\n",
    "arr\n",
    "arr2= np.arange(6,18).reshape(3,4)\n",
    "arr3 = arr @ arr2 # marix multiplication\n",
    "arr3"
   ]
  },
  {
   "cell_type": "code",
   "execution_count": 25,
   "id": "8eba5708-60d1-4314-8e64-0855f7ea254a",
   "metadata": {},
   "outputs": [
    {
     "data": {
      "text/plain": [
       "array([1.        , 1.42831853, 1.85663706, 2.28495559, 2.71327412,\n",
       "       3.14159265])"
      ]
     },
     "execution_count": 25,
     "metadata": {},
     "output_type": "execute_result"
    }
   ],
   "source": [
    "a = np.linspace(1,np.pi,6,dtype= float)\n",
    "a"
   ]
  },
  {
   "cell_type": "code",
   "execution_count": 36,
   "id": "7515a850-ab40-4a75-b6d7-502b2eb1d80a",
   "metadata": {},
   "outputs": [
    {
     "data": {
      "text/plain": [
       "array([[0, 4, 1],\n",
       "       [3, 2, 6]])"
      ]
     },
     "execution_count": 36,
     "metadata": {},
     "output_type": "execute_result"
    }
   ],
   "source": [
    "b = np.array([0,4,1,3,2,6,]).reshape(2,3)\n",
    "b.sum()\n",
    "b.min()\n",
    "b.max()\n",
    "b"
   ]
  },
  {
   "cell_type": "code",
   "execution_count": 41,
   "id": "18e838f5-d7dd-4401-88ed-6f092c1368d3",
   "metadata": {},
   "outputs": [
    {
     "name": "stdout",
     "output_type": "stream",
     "text": [
      "[3 6 7]\n",
      "[ 5 11]\n",
      "[[ 0  4  5]\n",
      " [ 3  5 11]]\n"
     ]
    }
   ],
   "source": [
    "b\n",
    "print(b.sum(axis=0)) # sum of each column\n",
    "print(b.sum(axis=1)) # sum of each row\n",
    "print(b.cumsum(axis=1)) #cumulative sum of each col.\n"
   ]
  },
  {
   "cell_type": "code",
   "execution_count": null,
   "id": "9cec296f-045c-44fa-91bb-379f16bb925c",
   "metadata": {},
   "outputs": [],
   "source": []
  }
 ],
 "metadata": {
  "kernelspec": {
   "display_name": "Python 3 (ipykernel)",
   "language": "python",
   "name": "python3"
  },
  "language_info": {
   "codemirror_mode": {
    "name": "ipython",
    "version": 3
   },
   "file_extension": ".py",
   "mimetype": "text/x-python",
   "name": "python",
   "nbconvert_exporter": "python",
   "pygments_lexer": "ipython3",
   "version": "3.11.4"
  }
 },
 "nbformat": 4,
 "nbformat_minor": 5
}
