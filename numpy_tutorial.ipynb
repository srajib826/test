{
 "cells": [
  {
   "cell_type": "code",
   "execution_count": 2,
   "id": "17139e1d-f29b-44d6-84c9-18319b5c86a0",
   "metadata": {},
   "outputs": [],
   "source": [
    "import numpy as np"
   ]
  },
  {
   "cell_type": "code",
   "execution_count": 10,
   "id": "44a1d77d-1b33-43aa-a945-f7875b3d9b54",
   "metadata": {},
   "outputs": [
    {
     "name": "stdout",
     "output_type": "stream",
     "text": [
      "[1.+0.j 2.+0.j 3.+0.j]\n",
      "1\n",
      "complex128\n",
      "(3,)\n"
     ]
    }
   ],
   "source": [
    "a = np.array([1,2,3],dtype= complex)\n",
    "print(a)\n",
    "print(a.ndim)\n",
    "print(a.dtype)\n",
    "print(a.shape)"
   ]
  },
  {
   "cell_type": "code",
   "execution_count": 8,
   "id": "c8d6d104-e156-48a8-aa36-e9232ea6df10",
   "metadata": {},
   "outputs": [
    {
     "name": "stdout",
     "output_type": "stream",
     "text": [
      "[[1. 2. 3.]\n",
      " [2. 3. 4.]]\n",
      "2\n",
      "float64\n",
      "(2, 3)\n"
     ]
    }
   ],
   "source": [
    "a = np.array([\n",
    "    [1,2,3],\n",
    "    [2.,3.,4.]\n",
    "])\n",
    "print(a)\n",
    "print(a.ndim)\n",
    "print(a.dtype)\n",
    "print(a.shape)"
   ]
  },
  {
   "cell_type": "code",
   "execution_count": 9,
   "id": "e18acb93-2990-4fcd-a497-e7dfa1fdba0e",
   "metadata": {},
   "outputs": [
    {
     "name": "stdout",
     "output_type": "stream",
     "text": [
      "[[[ 1  2  3]\n",
      "  [ 8  9  6]]\n",
      "\n",
      " [[ 5  6  3]\n",
      "  [44 55 66]]]\n",
      "3\n",
      "int32\n",
      "(2, 2, 3)\n"
     ]
    }
   ],
   "source": [
    "a = np.array([\n",
    "    [[1,2,3],\n",
    "    [8,9,6]],\n",
    "\n",
    "    [[5,6,3],\n",
    "    [44,55,66]]\n",
    "])\n",
    "print(a)\n",
    "print(a.ndim)\n",
    "print(a.dtype)\n",
    "print(a.shape)"
   ]
  },
  {
   "cell_type": "code",
   "execution_count": 12,
   "id": "0684d1ab-7166-4ae7-9b81-eb543cdd56de",
   "metadata": {},
   "outputs": [
    {
     "name": "stdout",
     "output_type": "stream",
     "text": [
      "[[0. 0. 0. 0. 0.]\n",
      " [0. 0. 0. 0. 0.]\n",
      " [0. 0. 0. 0. 0.]]\n"
     ]
    }
   ],
   "source": [
    "null = np.zeros((3,5))\n",
    "print(null)"
   ]
  },
  {
   "cell_type": "code",
   "execution_count": 19,
   "id": "8dbb0ebc-e42d-4376-938a-e66ddb70b504",
   "metadata": {},
   "outputs": [
    {
     "data": {
      "text/plain": [
       "array([[ 172,  186,  200,  214],\n",
       "       [ 850,  927, 1004, 1081],\n",
       "       [2068, 2262, 2456, 2650],\n",
       "       [3826, 4191, 4556, 4921]])"
      ]
     },
     "execution_count": 19,
     "metadata": {},
     "output_type": "execute_result"
    }
   ],
   "source": [
    "ones = np.ones((2,4))\n",
    "ones=10 * ones\n",
    "#print(ones)\n",
    "arr = np.arange(1,13).reshape(4,3)\n",
    "\n",
    "arr = arr**2\n",
    "arr\n",
    "arr2= np.arange(6,18).reshape(3,4)\n",
    "arr3 = arr @ arr2 # marix multiplication\n",
    "arr3"
   ]
  },
  {
   "cell_type": "code",
   "execution_count": 25,
   "id": "8eba5708-60d1-4314-8e64-0855f7ea254a",
   "metadata": {},
   "outputs": [
    {
     "data": {
      "text/plain": [
       "array([1.        , 1.42831853, 1.85663706, 2.28495559, 2.71327412,\n",
       "       3.14159265])"
      ]
     },
     "execution_count": 25,
     "metadata": {},
     "output_type": "execute_result"
    }
   ],
   "source": [
    "a = np.linspace(1,np.pi,6,dtype= float)\n",
    "a"
   ]
  },
  {
   "cell_type": "code",
   "execution_count": 3,
   "id": "7515a850-ab40-4a75-b6d7-502b2eb1d80a",
   "metadata": {},
   "outputs": [
    {
     "data": {
      "text/plain": [
       "16"
      ]
     },
     "execution_count": 3,
     "metadata": {},
     "output_type": "execute_result"
    }
   ],
   "source": [
    "b = np.array([0,4,1,3,2,6,]).reshape(2,3)\n",
    "b.sum()\n",
    "# b.min()\n",
    "# b.max()\n",
    "# b"
   ]
  },
  {
   "cell_type": "code",
   "execution_count": 41,
   "id": "18e838f5-d7dd-4401-88ed-6f092c1368d3",
   "metadata": {},
   "outputs": [
    {
     "name": "stdout",
     "output_type": "stream",
     "text": [
      "[3 6 7]\n",
      "[ 5 11]\n",
      "[[ 0  4  5]\n",
      " [ 3  5 11]]\n"
     ]
    }
   ],
   "source": [
    "b\n",
    "print(b.sum(axis=0)) # sum of each column\n",
    "print(b.sum(axis=1)) # sum of each row\n",
    "print(b.cumsum(axis=1)) #cumulative sum of each col.\n"
   ]
  },
  {
   "cell_type": "code",
   "execution_count": 2,
   "id": "9cec296f-045c-44fa-91bb-379f16bb925c",
   "metadata": {},
   "outputs": [
    {
     "data": {
      "text/plain": [
       "array([[ 0,  1,  2,  3,  4],\n",
       "       [ 5,  6,  7,  8,  9],\n",
       "       [10, 11, 12, 13, 14],\n",
       "       [15, 16, 17, 18, 19]])"
      ]
     },
     "execution_count": 2,
     "metadata": {},
     "output_type": "execute_result"
    }
   ],
   "source": [
    "arr= np.arange(20).reshape(4,5)\n",
    "arr"
   ]
  },
  {
   "cell_type": "code",
   "execution_count": 5,
   "id": "726295e9-2643-464e-a9b6-6a92f907c8fa",
   "metadata": {},
   "outputs": [
    {
     "name": "stdout",
     "output_type": "stream",
     "text": [
      "[0.         1.         1.41421356 1.73205081 2.        ]\n",
      "[2.23606798 2.44948974 2.64575131 2.82842712 3.        ]\n",
      "[3.16227766 3.31662479 3.46410162 3.60555128 3.74165739]\n",
      "[3.87298335 4.         4.12310563 4.24264069 4.35889894]\n"
     ]
    }
   ],
   "source": [
    "for i in arr :\n",
    "    print(i**(1/2))"
   ]
  },
  {
   "cell_type": "code",
   "execution_count": 6,
   "id": "eaea53d1-91fe-4223-ac3b-8c54889dc6f5",
   "metadata": {},
   "outputs": [
    {
     "name": "stdout",
     "output_type": "stream",
     "text": [
      "0\n",
      "1\n",
      "2\n",
      "3\n",
      "4\n",
      "5\n",
      "6\n",
      "7\n",
      "8\n",
      "9\n",
      "10\n",
      "11\n",
      "12\n",
      "13\n",
      "14\n",
      "15\n",
      "16\n",
      "17\n",
      "18\n",
      "19\n"
     ]
    }
   ],
   "source": [
    "for i in arr.flat :\n",
    "    print(i)"
   ]
  },
  {
   "cell_type": "code",
   "execution_count": 9,
   "id": "d56d014a-4a92-4efb-9e49-63e25739aa34",
   "metadata": {},
   "outputs": [
    {
     "data": {
      "text/plain": [
       "array([[ 0,  5, 10, 15],\n",
       "       [ 1,  6, 11, 16],\n",
       "       [ 2,  7, 12, 17],\n",
       "       [ 3,  8, 13, 18],\n",
       "       [ 4,  9, 14, 19]])"
      ]
     },
     "execution_count": 9,
     "metadata": {},
     "output_type": "execute_result"
    }
   ],
   "source": [
    "arr.T # transpose"
   ]
  },
  {
   "cell_type": "markdown",
   "id": "06642c41-4a14-4d26-8eec-99e773d4e44a",
   "metadata": {},
   "source": [
    "## reshape , ravel() do not modify original array rather creates a new array, but resize  modifies the original array\n",
    "### ravel() is used to flatten the array"
   ]
  },
  {
   "cell_type": "code",
   "execution_count": 21,
   "id": "171fdb81-aa73-4b2b-9519-4d7f9fcbeeb6",
   "metadata": {},
   "outputs": [
    {
     "data": {
      "text/plain": [
       "(2, 5)"
      ]
     },
     "execution_count": 21,
     "metadata": {},
     "output_type": "execute_result"
    }
   ],
   "source": [
    "arr= np.arange(10,22)\n",
    "arr.resize(2,5)\n",
    "arr.shape"
   ]
  },
  {
   "cell_type": "code",
   "execution_count": 26,
   "id": "11436575-afa3-4d1c-a715-a099dcde5b7d",
   "metadata": {},
   "outputs": [
    {
     "data": {
      "text/plain": [
       "array([1, 3, 5, 7, 9])"
      ]
     },
     "execution_count": 26,
     "metadata": {},
     "output_type": "execute_result"
    }
   ],
   "source": [
    "l=list(range(1,11,2))\n",
    "d = np.array(l)\n",
    "d"
   ]
  },
  {
   "cell_type": "markdown",
   "id": "48b06a78-2394-43cd-9830-b9742b2aebc2",
   "metadata": {},
   "source": [
    "## Slicing in multidimentional array"
   ]
  },
  {
   "cell_type": "code",
   "execution_count": 33,
   "id": "12275f82-30a7-4e44-a636-4ef8514ef8cc",
   "metadata": {},
   "outputs": [
    {
     "name": "stdout",
     "output_type": "stream",
     "text": [
      "[[ 0  1  2  3]\n",
      " [ 4  5  6  7]\n",
      " [ 8  9 10 11]\n",
      " [12 13 14 15]\n",
      " [16 17 18 19]]\n"
     ]
    },
    {
     "data": {
      "text/plain": [
       "array([ 2,  6, 10, 14, 18])"
      ]
     },
     "execution_count": 33,
     "metadata": {},
     "output_type": "execute_result"
    }
   ],
   "source": [
    "a=np.arange(20).reshape(5,4)\n",
    "print(a)\n",
    "a[0:6,2] #[0:6] will access the rows and 2 will print 3rd element of each row\n"
   ]
  },
  {
   "cell_type": "code",
   "execution_count": 34,
   "id": "e9c4e929-a5d0-405d-9ad7-3e9094555d0a",
   "metadata": {},
   "outputs": [
    {
     "data": {
      "text/plain": [
       "array([17, 18, 19])"
      ]
     },
     "execution_count": 34,
     "metadata": {},
     "output_type": "execute_result"
    }
   ],
   "source": [
    "a[-1,1:4]"
   ]
  },
  {
   "cell_type": "code",
   "execution_count": 40,
   "id": "e35d845a-26d9-4658-b9cd-e56545636080",
   "metadata": {},
   "outputs": [
    {
     "name": "stdout",
     "output_type": "stream",
     "text": [
      "[[[ 0  1  2  3  4]\n",
      "  [ 5  6  7  8  9]\n",
      "  [10 11 12 13 14]]\n",
      "\n",
      " [[15 16 17 18 19]\n",
      "  [20 21 22 23 24]\n",
      "  [25 26 27 28 29]]\n",
      "\n",
      " [[30 31 32 33 34]\n",
      "  [35 36 37 38 39]\n",
      "  [40 41 42 43 44]]\n",
      "\n",
      " [[45 46 47 48 49]\n",
      "  [50 51 52 53 54]\n",
      "  [55 56 57 58 59]]]\n"
     ]
    }
   ],
   "source": [
    "a=np.arange(60).reshape(4,3,5)\n",
    "print(a)"
   ]
  },
  {
   "cell_type": "code",
   "execution_count": 41,
   "id": "075e9672-8799-4711-87f5-dc1f69bff96e",
   "metadata": {},
   "outputs": [
    {
     "data": {
      "text/plain": [
       "array([17, 22])"
      ]
     },
     "execution_count": 41,
     "metadata": {},
     "output_type": "execute_result"
    }
   ],
   "source": [
    "a[1,0:2,2]"
   ]
  },
  {
   "cell_type": "markdown",
   "id": "f76056d0-6ee1-4658-9b5f-62d69366fded",
   "metadata": {},
   "source": [
    "## verticle and horizontal stack of arrays"
   ]
  },
  {
   "cell_type": "code",
   "execution_count": 50,
   "id": "e49414da-1606-404b-971c-bb84c4af9345",
   "metadata": {},
   "outputs": [
    {
     "name": "stdout",
     "output_type": "stream",
     "text": [
      "[[ 1  2  3]\n",
      " [ 4  5  6]\n",
      " [10 11 12]\n",
      " [13 14 15]]\n",
      "[[ 1  2  3 10 11 12]\n",
      " [ 4  5  6 13 14 15]]\n"
     ]
    }
   ],
   "source": [
    "a =np.arange(1,7).reshape(2,3)\n",
    "b =np.arange(10,16).reshape(2,3)\n",
    "c = np.vstack((a,b))\n",
    "d = np.hstack((a,b))\n",
    "print(c)\n",
    "print(d)"
   ]
  },
  {
   "cell_type": "markdown",
   "id": "95072bb1-d5df-460a-b0ff-5ccd3e7fc1b1",
   "metadata": {},
   "source": [
    "## Split the arrays"
   ]
  },
  {
   "cell_type": "code",
   "execution_count": 55,
   "id": "9a8d5247-88a8-415c-ab9f-2cf575270c4f",
   "metadata": {},
   "outputs": [
    {
     "name": "stdout",
     "output_type": "stream",
     "text": [
      "[[ 0  1  2]\n",
      " [12 13 14]]\n",
      "[[ 3  4  5]\n",
      " [15 16 17]]\n",
      "[[ 6  7  8]\n",
      " [18 19 20]]\n",
      "[[ 9 10 11]\n",
      " [21 22 23]]\n"
     ]
    }
   ],
   "source": [
    "e = np.arange(0,24).reshape(2,12)\n",
    "res = np.hsplit(e,4)\n",
    "for i in res :\n",
    "    print(i)"
   ]
  },
  {
   "cell_type": "code",
   "execution_count": 56,
   "id": "daf7eb5c-89f7-4cf1-bad6-a6653fcba06f",
   "metadata": {},
   "outputs": [
    {
     "name": "stdout",
     "output_type": "stream",
     "text": [
      "[[0 1]\n",
      " [2 3]\n",
      " [4 5]]\n",
      "[[ 6  7]\n",
      " [ 8  9]\n",
      " [10 11]]\n",
      "[[12 13]\n",
      " [14 15]\n",
      " [16 17]]\n",
      "[[18 19]\n",
      " [20 21]\n",
      " [22 23]]\n"
     ]
    }
   ],
   "source": [
    "e = np.arange(0,24).reshape(12,2)\n",
    "res = np.vsplit(e,4)\n",
    "for i in res :\n",
    "    print(i)"
   ]
  },
  {
   "cell_type": "markdown",
   "id": "c1d56ca7-f7ae-4cae-bc7d-4e5a66f7322b",
   "metadata": {},
   "source": [
    "## read the documentation of \"nditer\""
   ]
  },
  {
   "cell_type": "code",
   "execution_count": null,
   "id": "e07a4e54-620d-4beb-a4d5-7747dd480877",
   "metadata": {},
   "outputs": [],
   "source": []
  }
 ],
 "metadata": {
  "kernelspec": {
   "display_name": "Python 3 (ipykernel)",
   "language": "python",
   "name": "python3"
  },
  "language_info": {
   "codemirror_mode": {
    "name": "ipython",
    "version": 3
   },
   "file_extension": ".py",
   "mimetype": "text/x-python",
   "name": "python",
   "nbconvert_exporter": "python",
   "pygments_lexer": "ipython3",
   "version": "3.11.5"
  }
 },
 "nbformat": 4,
 "nbformat_minor": 5
}
