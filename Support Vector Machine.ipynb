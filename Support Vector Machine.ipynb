{
 "cells": [
  {
   "cell_type": "markdown",
   "id": "a8d5cb04-c54e-430f-a3e7-df93e9177247",
   "metadata": {},
   "source": [
    "## Classification Of Iris Flowers Using SVM"
   ]
  },
  {
   "cell_type": "code",
   "execution_count": 1,
   "id": "14b59bd9-54d4-4c6e-9416-85fc2af776aa",
   "metadata": {},
   "outputs": [],
   "source": [
    "import pandas as pd \n",
    "import matplotlib.pyplot as plt\n"
   ]
  },
  {
   "cell_type": "code",
   "execution_count": 2,
   "id": "cc8e91c0-17fd-4328-b08d-5beb5d1218d3",
   "metadata": {},
   "outputs": [],
   "source": [
    "%matplotlib inline"
   ]
  },
  {
   "cell_type": "code",
   "execution_count": 11,
   "id": "752d02c9-24bc-4e8d-8272-0bedec3bae3b",
   "metadata": {},
   "outputs": [],
   "source": [
    "from sklearn.datasets import load_digits"
   ]
  },
  {
   "cell_type": "code",
   "execution_count": 12,
   "id": "5ca065f8-a3b9-445c-80af-8ed614a29be4",
   "metadata": {},
   "outputs": [],
   "source": [
    "dataset= load_digits()"
   ]
  },
  {
   "cell_type": "code",
   "execution_count": 13,
   "id": "600e3fc2-7c41-4c52-84f1-eec4e470422e",
   "metadata": {},
   "outputs": [
    {
     "data": {
      "text/plain": [
       "sklearn.utils._bunch.Bunch"
      ]
     },
     "execution_count": 13,
     "metadata": {},
     "output_type": "execute_result"
    }
   ],
   "source": [
    "type(dataset)"
   ]
  },
  {
   "cell_type": "markdown",
   "id": "0bd8458c-8083-4ffa-a9bc-09c5ec4cdb98",
   "metadata": {},
   "source": []
  },
  {
   "cell_type": "code",
   "execution_count": 14,
   "id": "355cff2d-3948-41ff-988c-9bb7832806d2",
   "metadata": {},
   "outputs": [
    {
     "data": {
      "text/plain": [
       "['DESCR', 'data', 'feature_names', 'frame', 'images', 'target', 'target_names']"
      ]
     },
     "execution_count": 14,
     "metadata": {},
     "output_type": "execute_result"
    }
   ],
   "source": [
    "dir(dataset)"
   ]
  },
  {
   "cell_type": "code",
   "execution_count": 19,
   "id": "5798ddbf-9762-48b2-ab66-fb04306b83ac",
   "metadata": {},
   "outputs": [],
   "source": [
    "from sklearn.model_selection import train_test_split"
   ]
  },
  {
   "cell_type": "code",
   "execution_count": 20,
   "id": "f5eaa4ee-a7df-49e5-ad91-c5fecc55c6e2",
   "metadata": {},
   "outputs": [],
   "source": [
    "X_train, X_test, y_train, y_test = train_test_split(dataset.data,dataset.target,test_size=0.2)"
   ]
  },
  {
   "cell_type": "code",
   "execution_count": 21,
   "id": "668c5324-3fd0-4c35-87bf-eb2e97baf7ad",
   "metadata": {},
   "outputs": [],
   "source": [
    "from sklearn.svm import SVC"
   ]
  },
  {
   "cell_type": "code",
   "execution_count": 22,
   "id": "5a6d260c-8d0e-4175-9884-a6883e98616e",
   "metadata": {},
   "outputs": [],
   "source": [
    "model=SVC()"
   ]
  },
  {
   "cell_type": "code",
   "execution_count": 23,
   "id": "55594837-26be-4f91-9b13-3caf1817cbc5",
   "metadata": {},
   "outputs": [
    {
     "data": {
      "text/html": [
       "<style>#sk-container-id-1 {color: black;}#sk-container-id-1 pre{padding: 0;}#sk-container-id-1 div.sk-toggleable {background-color: white;}#sk-container-id-1 label.sk-toggleable__label {cursor: pointer;display: block;width: 100%;margin-bottom: 0;padding: 0.3em;box-sizing: border-box;text-align: center;}#sk-container-id-1 label.sk-toggleable__label-arrow:before {content: \"▸\";float: left;margin-right: 0.25em;color: #696969;}#sk-container-id-1 label.sk-toggleable__label-arrow:hover:before {color: black;}#sk-container-id-1 div.sk-estimator:hover label.sk-toggleable__label-arrow:before {color: black;}#sk-container-id-1 div.sk-toggleable__content {max-height: 0;max-width: 0;overflow: hidden;text-align: left;background-color: #f0f8ff;}#sk-container-id-1 div.sk-toggleable__content pre {margin: 0.2em;color: black;border-radius: 0.25em;background-color: #f0f8ff;}#sk-container-id-1 input.sk-toggleable__control:checked~div.sk-toggleable__content {max-height: 200px;max-width: 100%;overflow: auto;}#sk-container-id-1 input.sk-toggleable__control:checked~label.sk-toggleable__label-arrow:before {content: \"▾\";}#sk-container-id-1 div.sk-estimator input.sk-toggleable__control:checked~label.sk-toggleable__label {background-color: #d4ebff;}#sk-container-id-1 div.sk-label input.sk-toggleable__control:checked~label.sk-toggleable__label {background-color: #d4ebff;}#sk-container-id-1 input.sk-hidden--visually {border: 0;clip: rect(1px 1px 1px 1px);clip: rect(1px, 1px, 1px, 1px);height: 1px;margin: -1px;overflow: hidden;padding: 0;position: absolute;width: 1px;}#sk-container-id-1 div.sk-estimator {font-family: monospace;background-color: #f0f8ff;border: 1px dotted black;border-radius: 0.25em;box-sizing: border-box;margin-bottom: 0.5em;}#sk-container-id-1 div.sk-estimator:hover {background-color: #d4ebff;}#sk-container-id-1 div.sk-parallel-item::after {content: \"\";width: 100%;border-bottom: 1px solid gray;flex-grow: 1;}#sk-container-id-1 div.sk-label:hover label.sk-toggleable__label {background-color: #d4ebff;}#sk-container-id-1 div.sk-serial::before {content: \"\";position: absolute;border-left: 1px solid gray;box-sizing: border-box;top: 0;bottom: 0;left: 50%;z-index: 0;}#sk-container-id-1 div.sk-serial {display: flex;flex-direction: column;align-items: center;background-color: white;padding-right: 0.2em;padding-left: 0.2em;position: relative;}#sk-container-id-1 div.sk-item {position: relative;z-index: 1;}#sk-container-id-1 div.sk-parallel {display: flex;align-items: stretch;justify-content: center;background-color: white;position: relative;}#sk-container-id-1 div.sk-item::before, #sk-container-id-1 div.sk-parallel-item::before {content: \"\";position: absolute;border-left: 1px solid gray;box-sizing: border-box;top: 0;bottom: 0;left: 50%;z-index: -1;}#sk-container-id-1 div.sk-parallel-item {display: flex;flex-direction: column;z-index: 1;position: relative;background-color: white;}#sk-container-id-1 div.sk-parallel-item:first-child::after {align-self: flex-end;width: 50%;}#sk-container-id-1 div.sk-parallel-item:last-child::after {align-self: flex-start;width: 50%;}#sk-container-id-1 div.sk-parallel-item:only-child::after {width: 0;}#sk-container-id-1 div.sk-dashed-wrapped {border: 1px dashed gray;margin: 0 0.4em 0.5em 0.4em;box-sizing: border-box;padding-bottom: 0.4em;background-color: white;}#sk-container-id-1 div.sk-label label {font-family: monospace;font-weight: bold;display: inline-block;line-height: 1.2em;}#sk-container-id-1 div.sk-label-container {text-align: center;}#sk-container-id-1 div.sk-container {/* jupyter's `normalize.less` sets `[hidden] { display: none; }` but bootstrap.min.css set `[hidden] { display: none !important; }` so we also need the `!important` here to be able to override the default hidden behavior on the sphinx rendered scikit-learn.org. See: https://github.com/scikit-learn/scikit-learn/issues/21755 */display: inline-block !important;position: relative;}#sk-container-id-1 div.sk-text-repr-fallback {display: none;}</style><div id=\"sk-container-id-1\" class=\"sk-top-container\"><div class=\"sk-text-repr-fallback\"><pre>SVC()</pre><b>In a Jupyter environment, please rerun this cell to show the HTML representation or trust the notebook. <br />On GitHub, the HTML representation is unable to render, please try loading this page with nbviewer.org.</b></div><div class=\"sk-container\" hidden><div class=\"sk-item\"><div class=\"sk-estimator sk-toggleable\"><input class=\"sk-toggleable__control sk-hidden--visually\" id=\"sk-estimator-id-1\" type=\"checkbox\" checked><label for=\"sk-estimator-id-1\" class=\"sk-toggleable__label sk-toggleable__label-arrow\">SVC</label><div class=\"sk-toggleable__content\"><pre>SVC()</pre></div></div></div></div></div>"
      ],
      "text/plain": [
       "SVC()"
      ]
     },
     "execution_count": 23,
     "metadata": {},
     "output_type": "execute_result"
    }
   ],
   "source": [
    "model.fit(X_train,y_train)"
   ]
  },
  {
   "cell_type": "code",
   "execution_count": 24,
   "id": "580ba128-3b62-40b5-984f-fc9496a8455c",
   "metadata": {},
   "outputs": [
    {
     "data": {
      "text/plain": [
       "0.9861111111111112"
      ]
     },
     "execution_count": 24,
     "metadata": {},
     "output_type": "execute_result"
    }
   ],
   "source": [
    "model.score(X_test,y_test)"
   ]
  },
  {
   "cell_type": "code",
   "execution_count": 25,
   "id": "d2cf3d0f-7e6c-4060-a414-e9a13ada5112",
   "metadata": {},
   "outputs": [
    {
     "data": {
      "text/plain": [
       "array([7, 7, 7, 9, 3, 9, 9, 7, 4, 7, 9, 2, 5, 1, 7, 0, 6, 0, 5, 1, 3, 6,\n",
       "       6, 2, 8, 3, 9, 2, 5, 5, 0, 3, 5, 9, 5, 7, 0, 3, 2, 5, 0, 6, 9, 4,\n",
       "       9, 0, 9, 8, 8, 3, 3, 7, 3, 5, 2, 3, 2, 0, 9, 3, 6, 7, 5, 2, 0, 3,\n",
       "       8, 6, 0, 6, 5, 1, 3, 0, 2, 7, 9, 3, 9, 6, 9, 0, 4, 4, 3, 1, 8, 2,\n",
       "       2, 3, 6, 2, 7, 8, 1, 7, 0, 3, 7, 4, 4, 9, 8, 7, 1, 3, 9, 1, 5, 9,\n",
       "       8, 8, 8, 2, 1, 2, 9, 1, 6, 9, 9, 0, 8, 7, 5, 7, 3, 4, 3, 4, 1, 5,\n",
       "       1, 4, 6, 4, 2, 0, 4, 9, 3, 4, 4, 2, 5, 0, 1, 1, 5, 8, 2, 1, 1, 3,\n",
       "       4, 2, 0, 1, 2, 1, 1, 7, 2, 9, 7, 7, 5, 8, 1, 1, 8, 0, 2, 2, 2, 0,\n",
       "       3, 7, 4, 4, 3, 8, 1, 9, 5, 6, 4, 9, 4, 1, 9, 8, 7, 7, 0, 9, 3, 5,\n",
       "       9, 4, 4, 3, 5, 4, 4, 8, 1, 1, 0, 1, 4, 3, 5, 6, 7, 4, 5, 1, 1, 4,\n",
       "       2, 2, 5, 6, 5, 7, 5, 7, 8, 9, 1, 9, 9, 5, 3, 0, 5, 9, 4, 3, 6, 4,\n",
       "       2, 9, 0, 6, 6, 6, 9, 2, 7, 8, 7, 2, 9, 2, 6, 4, 1, 3, 3, 8, 2, 4,\n",
       "       2, 8, 8, 3, 1, 1, 3, 6, 5, 2, 3, 4, 0, 5, 5, 8, 9, 5, 0, 0, 9, 8,\n",
       "       8, 6, 0, 7, 1, 7, 8, 3, 0, 0, 1, 6, 2, 2, 0, 0, 2, 6, 1, 7, 6, 2,\n",
       "       9, 3, 5, 1, 7, 9, 5, 7, 3, 7, 6, 1, 0, 4, 4, 1, 7, 3, 7, 3, 2, 2,\n",
       "       3, 7, 9, 8, 7, 5, 1, 0, 9, 2, 1, 8, 0, 7, 0, 9, 6, 6, 7, 9, 0, 3,\n",
       "       1, 7, 7, 2, 6, 8, 0, 9])"
      ]
     },
     "execution_count": 25,
     "metadata": {},
     "output_type": "execute_result"
    }
   ],
   "source": [
    "model.predict(X_test)"
   ]
  },
  {
   "cell_type": "code",
   "execution_count": 26,
   "id": "3e85b3df-c1b4-4a04-8696-7c30d2821322",
   "metadata": {},
   "outputs": [
    {
     "data": {
      "text/plain": [
       "array([7, 7, 7, 9, 3, 9, 9, 7, 4, 7, 9, 2, 5, 1, 7, 0, 6, 0, 5, 1, 3, 6,\n",
       "       6, 2, 8, 3, 9, 2, 5, 5, 0, 3, 5, 9, 5, 7, 0, 3, 2, 5, 0, 6, 9, 0,\n",
       "       9, 0, 9, 8, 8, 3, 3, 7, 3, 5, 2, 3, 2, 0, 9, 3, 6, 7, 5, 2, 0, 3,\n",
       "       8, 6, 0, 6, 5, 1, 3, 0, 2, 7, 9, 3, 9, 6, 9, 0, 4, 4, 3, 1, 8, 2,\n",
       "       2, 3, 6, 2, 7, 8, 1, 7, 0, 3, 7, 4, 4, 9, 8, 7, 1, 3, 9, 1, 5, 9,\n",
       "       8, 8, 8, 2, 1, 2, 9, 1, 6, 9, 9, 0, 8, 7, 5, 7, 3, 4, 3, 4, 1, 5,\n",
       "       1, 4, 6, 4, 2, 0, 4, 9, 3, 4, 4, 2, 5, 0, 1, 1, 5, 8, 2, 8, 1, 3,\n",
       "       4, 2, 0, 1, 2, 1, 1, 7, 2, 9, 7, 7, 5, 8, 1, 1, 8, 0, 2, 2, 2, 0,\n",
       "       3, 7, 4, 4, 3, 8, 1, 9, 5, 6, 4, 9, 4, 1, 9, 8, 7, 7, 0, 7, 3, 5,\n",
       "       9, 4, 4, 3, 5, 4, 4, 8, 1, 1, 0, 1, 4, 3, 5, 6, 7, 4, 5, 1, 1, 4,\n",
       "       2, 2, 5, 6, 5, 7, 5, 7, 8, 9, 1, 9, 9, 5, 3, 0, 9, 9, 4, 3, 6, 4,\n",
       "       2, 9, 0, 6, 6, 6, 9, 2, 7, 8, 7, 2, 9, 2, 6, 4, 1, 3, 3, 8, 2, 4,\n",
       "       2, 8, 8, 3, 1, 1, 3, 6, 5, 2, 3, 4, 0, 5, 5, 8, 9, 5, 0, 0, 9, 8,\n",
       "       8, 6, 0, 7, 1, 7, 8, 3, 0, 0, 1, 6, 2, 2, 0, 0, 2, 6, 1, 7, 6, 2,\n",
       "       9, 3, 5, 1, 7, 9, 5, 7, 3, 7, 6, 1, 0, 4, 4, 1, 7, 3, 7, 3, 2, 2,\n",
       "       3, 7, 9, 8, 7, 5, 1, 0, 9, 2, 1, 8, 0, 7, 0, 9, 5, 6, 7, 9, 0, 3,\n",
       "       1, 7, 7, 2, 6, 8, 0, 9])"
      ]
     },
     "execution_count": 26,
     "metadata": {},
     "output_type": "execute_result"
    }
   ],
   "source": [
    "y_test"
   ]
  },
  {
   "cell_type": "code",
   "execution_count": 28,
   "id": "a3a21828-a571-4114-b52a-5b791ef2fe23",
   "metadata": {},
   "outputs": [],
   "source": [
    "from sklearn.metrics import confusion_matrix"
   ]
  },
  {
   "cell_type": "code",
   "execution_count": 29,
   "id": "162b097d-a355-46da-9b09-56a1c1b057a3",
   "metadata": {},
   "outputs": [
    {
     "data": {
      "text/plain": [
       "array([[36,  0,  0,  0,  1,  0,  0,  0,  0,  0],\n",
       "       [ 0, 39,  0,  0,  0,  0,  0,  0,  0,  0],\n",
       "       [ 0,  0, 39,  0,  0,  0,  0,  0,  0,  0],\n",
       "       [ 0,  0,  0, 40,  0,  0,  0,  0,  0,  0],\n",
       "       [ 0,  0,  0,  0, 31,  0,  0,  0,  0,  0],\n",
       "       [ 0,  0,  0,  0,  0, 32,  1,  0,  0,  0],\n",
       "       [ 0,  0,  0,  0,  0,  0, 27,  0,  0,  0],\n",
       "       [ 0,  0,  0,  0,  0,  0,  0, 41,  0,  1],\n",
       "       [ 0,  1,  0,  0,  0,  0,  0,  0, 29,  0],\n",
       "       [ 0,  0,  0,  0,  0,  1,  0,  0,  0, 41]], dtype=int64)"
      ]
     },
     "execution_count": 29,
     "metadata": {},
     "output_type": "execute_result"
    }
   ],
   "source": [
    "cm=confusion_matrix(y_test,model.predict(X_test))\n",
    "cm"
   ]
  },
  {
   "cell_type": "code",
   "execution_count": 32,
   "id": "d3aea338-90e4-4c2a-b54e-103dab5b855f",
   "metadata": {},
   "outputs": [
    {
     "data": {
      "text/plain": [
       "<Axes: >"
      ]
     },
     "execution_count": 32,
     "metadata": {},
     "output_type": "execute_result"
    },
    {
     "data": {
      "image/png": "[encoded data removed]",
      "text/plain": [
       "<Figure size 640x480 with 2 Axes>"
      ]
     },
     "metadata": {},
     "output_type": "display_data"
    }
   ],
   "source": [
    "import seaborn as sns\n",
    "plt.xlabel(\"Predicted\")\n",
    "plt.ylabel(\"Actual\")\n",
    "\n",
    "sns.heatmap(cm,annot=True)"
   ]
  },
  {
   "cell_type": "code",
   "execution_count": null,
   "id": "cbabb57e-0e12-45d8-b53b-2669e309974f",
   "metadata": {},
   "outputs": [],
   "source": []
  }
 ],
 "metadata": {
  "kernelspec": {
   "display_name": "Python 3 (ipykernel)",
   "language": "python",
   "name": "python3"
  },
  "language_info": {
   "codemirror_mode": {
    "name": "ipython",
    "version": 3
   },
   "file_extension": ".py",
   "mimetype": "text/x-python",
   "name": "python",
   "nbconvert_exporter": "python",
   "pygments_lexer": "ipython3",
   "version": "3.11.5"
  }
 },
 "nbformat": 4,
 "nbformat_minor": 5
}
