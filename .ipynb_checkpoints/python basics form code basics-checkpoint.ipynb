{
 "cells": [
  {
   "cell_type": "code",
   "execution_count": null,
   "id": "6be20ae2-47a5-4854-8617-6988dc6b6e62",
   "metadata": {},
   "outputs": [],
   "source": []
  },
  {
   "cell_type": "code",
   "execution_count": 1,
   "id": "981b98d3-c19c-409e-8760-a6ade53982ce",
   "metadata": {},
   "outputs": [
    {
     "data": {
      "application/json": {
       "cell": {
        "!": "OSMagics",
        "HTML": "Other",
        "SVG": "Other",
        "bash": "Other",
        "capture": "ExecutionMagics",
        "cmd": "Other",
        "debug": "ExecutionMagics",
        "file": "Other",
        "html": "DisplayMagics",
        "javascript": "DisplayMagics",
        "js": "DisplayMagics",
        "latex": "DisplayMagics",
        "markdown": "DisplayMagics",
        "perl": "Other",
        "prun": "ExecutionMagics",
        "pypy": "Other",
        "python": "Other",
        "python2": "Other",
        "python3": "Other",
        "ruby": "Other",
        "script": "ScriptMagics",
        "sh": "Other",
        "svg": "DisplayMagics",
        "sx": "OSMagics",
        "system": "OSMagics",
        "time": "ExecutionMagics",
        "timeit": "ExecutionMagics",
        "writefile": "OSMagics"
       },
       "line": {
        "alias": "OSMagics",
        "alias_magic": "BasicMagics",
        "autoawait": "AsyncMagics",
        "autocall": "AutoMagics",
        "automagic": "AutoMagics",
        "autosave": "KernelMagics",
        "bookmark": "OSMagics",
        "cd": "OSMagics",
        "clear": "KernelMagics",
        "cls": "KernelMagics",
        "colors": "BasicMagics",
        "conda": "PackagingMagics",
        "config": "ConfigMagics",
        "connect_info": "KernelMagics",
        "copy": "Other",
        "ddir": "Other",
        "debug": "ExecutionMagics",
        "dhist": "OSMagics",
        "dirs": "OSMagics",
        "doctest_mode": "BasicMagics",
        "echo": "Other",
        "ed": "Other",
        "edit": "KernelMagics",
        "env": "OSMagics",
        "gui": "BasicMagics",
        "hist": "Other",
        "history": "HistoryMagics",
        "killbgscripts": "ScriptMagics",
        "ldir": "Other",
        "less": "KernelMagics",
        "load": "CodeMagics",
        "load_ext": "ExtensionMagics",
        "loadpy": "CodeMagics",
        "logoff": "LoggingMagics",
        "logon": "LoggingMagics",
        "logstart": "LoggingMagics",
        "logstate": "LoggingMagics",
        "logstop": "LoggingMagics",
        "ls": "Other",
        "lsmagic": "BasicMagics",
        "macro": "ExecutionMagics",
        "magic": "BasicMagics",
        "matplotlib": "PylabMagics",
        "mkdir": "Other",
        "more": "KernelMagics",
        "notebook": "BasicMagics",
        "page": "BasicMagics",
        "pastebin": "CodeMagics",
        "pdb": "ExecutionMagics",
        "pdef": "NamespaceMagics",
        "pdoc": "NamespaceMagics",
        "pfile": "NamespaceMagics",
        "pinfo": "NamespaceMagics",
        "pinfo2": "NamespaceMagics",
        "pip": "PackagingMagics",
        "popd": "OSMagics",
        "pprint": "BasicMagics",
        "precision": "BasicMagics",
        "prun": "ExecutionMagics",
        "psearch": "NamespaceMagics",
        "psource": "NamespaceMagics",
        "pushd": "OSMagics",
        "pwd": "OSMagics",
        "pycat": "OSMagics",
        "pylab": "PylabMagics",
        "qtconsole": "KernelMagics",
        "quickref": "BasicMagics",
        "recall": "HistoryMagics",
        "rehashx": "OSMagics",
        "reload_ext": "ExtensionMagics",
        "ren": "Other",
        "rep": "Other",
        "rerun": "HistoryMagics",
        "reset": "NamespaceMagics",
        "reset_selective": "NamespaceMagics",
        "rmdir": "Other",
        "run": "ExecutionMagics",
        "save": "CodeMagics",
        "sc": "OSMagics",
        "set_env": "OSMagics",
        "store": "StoreMagics",
        "sx": "OSMagics",
        "system": "OSMagics",
        "tb": "ExecutionMagics",
        "time": "ExecutionMagics",
        "timeit": "ExecutionMagics",
        "unalias": "OSMagics",
        "unload_ext": "ExtensionMagics",
        "who": "NamespaceMagics",
        "who_ls": "NamespaceMagics",
        "whos": "NamespaceMagics",
        "xdel": "NamespaceMagics",
        "xmode": "BasicMagics"
       }
      },
      "text/plain": [
       "Available line magics:\n",
       "%alias  %alias_magic  %autoawait  %autocall  %automagic  %autosave  %bookmark  %cd  %clear  %cls  %colors  %conda  %config  %connect_info  %copy  %ddir  %debug  %dhist  %dirs  %doctest_mode  %echo  %ed  %edit  %env  %gui  %hist  %history  %killbgscripts  %ldir  %less  %load  %load_ext  %loadpy  %logoff  %logon  %logstart  %logstate  %logstop  %ls  %lsmagic  %macro  %magic  %matplotlib  %mkdir  %more  %notebook  %page  %pastebin  %pdb  %pdef  %pdoc  %pfile  %pinfo  %pinfo2  %pip  %popd  %pprint  %precision  %prun  %psearch  %psource  %pushd  %pwd  %pycat  %pylab  %qtconsole  %quickref  %recall  %rehashx  %reload_ext  %ren  %rep  %rerun  %reset  %reset_selective  %rmdir  %run  %save  %sc  %set_env  %store  %sx  %system  %tb  %time  %timeit  %unalias  %unload_ext  %who  %who_ls  %whos  %xdel  %xmode\n",
       "\n",
       "Available cell magics:\n",
       "%%!  %%HTML  %%SVG  %%bash  %%capture  %%cmd  %%debug  %%file  %%html  %%javascript  %%js  %%latex  %%markdown  %%perl  %%prun  %%pypy  %%python  %%python2  %%python3  %%ruby  %%script  %%sh  %%svg  %%sx  %%system  %%time  %%timeit  %%writefile\n",
       "\n",
       "Automagic is ON, % prefix IS NOT needed for line magics."
      ]
     },
     "execution_count": 1,
     "metadata": {},
     "output_type": "execute_result"
    }
   ],
   "source": [
    "%lsmagic\n"
   ]
  },
  {
   "cell_type": "code",
   "execution_count": 2,
   "id": "2d051764-f470-49e3-aadd-49f3bbc472fe",
   "metadata": {},
   "outputs": [
    {
     "data": {
      "text/plain": [
       "'C:\\\\Users\\\\sraji\\\\Desktop\\\\python'"
      ]
     },
     "execution_count": 2,
     "metadata": {},
     "output_type": "execute_result"
    }
   ],
   "source": [
    "%pwd"
   ]
  },
  {
   "cell_type": "code",
   "execution_count": 3,
   "id": "a7e33fa4-4317-4f3f-8129-748e4e36505c",
   "metadata": {},
   "outputs": [
    {
     "name": "stdout",
     "output_type": "stream",
     "text": [
      "C:\\Users\\sraji\n"
     ]
    }
   ],
   "source": [
    "%cd"
   ]
  },
  {
   "cell_type": "code",
   "execution_count": 4,
   "id": "f3ccaf7d-872b-40ed-97d3-b6618c8605f0",
   "metadata": {},
   "outputs": [
    {
     "data": {
      "text/plain": [
       "'C:\\\\Users\\\\sraji'"
      ]
     },
     "execution_count": 4,
     "metadata": {},
     "output_type": "execute_result"
    }
   ],
   "source": [
    "%pwd\n"
   ]
  },
  {
   "cell_type": "code",
   "execution_count": 5,
   "id": "e3656fdf-f2d8-44df-85df-863ad04d936d",
   "metadata": {},
   "outputs": [
    {
     "name": "stdout",
     "output_type": "stream",
     "text": [
      " Volume in drive C has no label.\n",
      " Volume Serial Number is C807-3E2B\n",
      "\n",
      " Directory of C:\\Users\\sraji\n",
      "\n",
      "12-09-2023  23:17    <DIR>          .\n",
      "12-09-2023  23:17    <DIR>          ..\n",
      "12-09-2023  23:12             2,203 .bash_history\n",
      "11-08-2023  21:00    <DIR>          .dotnet\n",
      "11-08-2023  15:12                57 .gitconfig\n",
      "17-08-2023  18:04    <DIR>          .ipynb_checkpoints\n",
      "17-08-2023  18:05    <DIR>          .ipython\n",
      "17-08-2023  18:06    <DIR>          .jupyter\n",
      "22-08-2023  14:38    <DIR>          .keras\n",
      "02-09-2023  10:35                20 .lesshst\n",
      "18-08-2023  14:52    <DIR>          .matplotlib\n",
      "05-09-2023  15:32    <DIR>          .ssh\n",
      "11-08-2023  20:22    <DIR>          .TI-trace\n",
      "17-08-2023  11:27    <DIR>          .vscode\n",
      "10-08-2023  18:20    <DIR>          3D Objects\n",
      "10-08-2023  18:20    <DIR>          Contacts\n",
      "22-08-2023  13:25    <DIR>          Desktop\n",
      "15-09-2023  17:09    <DIR>          Documents\n",
      "10-09-2023  14:33    <DIR>          Downloads\n",
      "10-08-2023  18:20    <DIR>          Favorites\n",
      "29-08-2023  15:06    <DIR>          guicomposer\n",
      "10-08-2023  18:20    <DIR>          Links\n",
      "18-08-2023  15:10    <DIR>          mmHER\n",
      "29-08-2023  15:59    <DIR>          mmWave-Demo-Visualizer_3.6.0\n",
      "10-08-2023  18:20    <DIR>          Music\n",
      "10-08-2023  13:25    <DIR>          OneDrive\n",
      "14-09-2023  14:59    <DIR>          Pictures\n",
      "10-08-2023  18:20    <DIR>          Saved Games\n",
      "10-08-2023  18:22    <DIR>          Searches\n",
      "11-08-2023  19:47    <DIR>          ti\n",
      "11-08-2023  14:35    <DIR>          TICloudAgent\n",
      "12-09-2023  23:17               642 Untitled.ipynb\n",
      "11-08-2023  17:22    <DIR>          Videos\n",
      "11-08-2023  20:23    <DIR>          workspace_v12\n",
      "               4 File(s)          2,922 bytes\n",
      "              30 Dir(s)  344,285,589,504 bytes free\n"
     ]
    }
   ],
   "source": [
    "%ls"
   ]
  },
  {
   "cell_type": "code",
   "execution_count": 6,
   "id": "d9638230-0e8e-4ea6-8277-d843a3d58303",
   "metadata": {},
   "outputs": [
    {
     "name": "stdout",
     "output_type": "stream",
     "text": [
      "C:\\Users\\sraji\\Desktop\n"
     ]
    }
   ],
   "source": [
    "%cd Desktop/\n"
   ]
  },
  {
   "cell_type": "code",
   "execution_count": 7,
   "id": "fd74c824-6cb4-437c-8214-f0ebe39ec196",
   "metadata": {},
   "outputs": [
    {
     "name": "stdout",
     "output_type": "stream",
     "text": [
      " Volume in drive C has no label.\n",
      " Volume Serial Number is C807-3E2B\n",
      "\n",
      " Directory of C:\\Users\\sraji\\Desktop\n",
      "\n",
      "22-08-2023  13:25    <DIR>          .\n",
      "22-08-2023  13:25    <DIR>          ..\n",
      "18-08-2023  20:37            37,254 cap_2.PNG\n",
      "16-08-2023  17:22           176,518 Capture1.PNG\n",
      "11-08-2023  19:55             1,813 Code Composer Studio 12.4.0.lnk\n",
      "22-08-2023  13:40    <DIR>          git branching\n",
      "11-08-2023  14:25             2,352 Microsoft Edge.lnk\n",
      "17-09-2023  23:48    <DIR>          python\n",
      "17-08-2023  11:26             1,404 Visual Studio Code.lnk\n",
      "               5 File(s)        219,341 bytes\n",
      "               4 Dir(s)  344,284,561,408 bytes free\n"
     ]
    }
   ],
   "source": [
    "%ls"
   ]
  },
  {
   "cell_type": "code",
   "execution_count": 8,
   "id": "7c29cc27-c256-4f41-b1de-9ccc2dd9cda1",
   "metadata": {},
   "outputs": [
    {
     "name": "stdout",
     "output_type": "stream",
     "text": [
      "C:\\Users\\sraji\\Desktop\\python\n"
     ]
    }
   ],
   "source": [
    "%cd python/"
   ]
  },
  {
   "cell_type": "code",
   "execution_count": 9,
   "id": "27568594-df53-4d62-8a8e-8103c41727d1",
   "metadata": {},
   "outputs": [
    {
     "name": "stdout",
     "output_type": "stream",
     "text": [
      " Volume in drive C has no label.\n",
      " Volume Serial Number is C807-3E2B\n",
      "\n",
      " Directory of C:\\Users\\sraji\\Desktop\\python\n",
      "\n",
      "17-09-2023  23:48    <DIR>          .\n",
      "17-09-2023  23:48    <DIR>          ..\n",
      "22-08-2023  13:20                 7 .gitignore\n",
      "17-09-2023  23:42    <DIR>          .ipynb_checkpoints\n",
      "31-08-2023  20:09               305 data.py\n",
      "24-08-2023  17:27               772 first_file.py\n",
      "12-09-2023  17:00               382 hm.py\n",
      "22-08-2023  14:27    <DIR>          inside\n",
      "22-08-2023  14:36    <DIR>          inside_1\n",
      "31-08-2023  20:00               113 json_tutorial.py\n",
      "17-09-2023  23:48             9,964 rajib.ipynb\n",
      "31-08-2023  17:17         2,379,887 test_data_collection.txt\n",
      "28-08-2023  16:04                59 tutorial.py\n",
      "               8 File(s)      2,391,489 bytes\n",
      "               5 Dir(s)  344,284,561,408 bytes free\n"
     ]
    }
   ],
   "source": [
    "%ls"
   ]
  },
  {
   "cell_type": "code",
   "execution_count": 10,
   "id": "73c0c5c2-c5dc-48e1-bdaf-5aaa4f218c5b",
   "metadata": {},
   "outputs": [
    {
     "data": {
      "text/plain": [
       "'C:\\\\Users\\\\sraji\\\\Desktop\\\\python'"
      ]
     },
     "execution_count": 10,
     "metadata": {},
     "output_type": "execute_result"
    }
   ],
   "source": [
    "%pwd"
   ]
  },
  {
   "cell_type": "code",
   "execution_count": 11,
   "id": "cdb91da9-2de3-4d52-a153-3bea12586802",
   "metadata": {},
   "outputs": [],
   "source": [
    "%mkdir jupyter_folder"
   ]
  },
  {
   "cell_type": "code",
   "execution_count": 12,
   "id": "1c5792f9-7368-4261-923b-0dad0c1f5984",
   "metadata": {},
   "outputs": [
    {
     "name": "stdout",
     "output_type": "stream",
     "text": [
      "\f",
      "\n"
     ]
    }
   ],
   "source": [
    "%clear"
   ]
  },
  {
   "cell_type": "code",
   "execution_count": 13,
   "id": "a54e7094-8d32-4972-9298-c40e510710f8",
   "metadata": {},
   "outputs": [
    {
     "name": "stdout",
     "output_type": "stream",
     "text": [
      "\f",
      "\n"
     ]
    }
   ],
   "source": [
    "%cls"
   ]
  },
  {
   "cell_type": "code",
   "execution_count": 15,
   "id": "b56dd979-714f-4322-94ab-40a3a7040229",
   "metadata": {},
   "outputs": [
    {
     "data": {
      "text/html": [
       "<iframe width=\"560\" height=\"315\" src=\"https://www.youtube.com/embed/zEtukWs_B2I?si=T0M73NGBdHCaezKp\" title=\"YouTube video player\" frameborder=\"0\" allow=\"accelerometer; autoplay; clipboard-write; encrypted-media; gyroscope; picture-in-picture; web-share\" allowfullscreen></iframe>\n"
      ],
      "text/plain": [
       "<IPython.core.display.HTML object>"
      ]
     },
     "metadata": {},
     "output_type": "display_data"
    }
   ],
   "source": [
    "%%HTML\n",
    "<iframe width=\"560\" height=\"315\" src=\"https://www.youtube.com/embed/zEtukWs_B2I?si=T0M73NGBdHCaezKp\" title=\"YouTube video player\" frameborder=\"0\" allow=\"accelerometer; autoplay; clipboard-write; encrypted-media; gyroscope; picture-in-picture; web-share\" allowfullscreen></iframe>"
   ]
  },
  {
   "cell_type": "markdown",
   "id": "da5dd17a-25bf-4357-b4e2-ced85fd78a88",
   "metadata": {},
   "source": [
    "<div class=\"alert alert-block alert-info\">\r\n",
    "<b>Tip:</b>https://www.ibm.com/docs/en/watson-studio-local/1.2.3?topic=notebooks-markdown-jupyter-cheatsheet\n",
    "    GO TO THIS LINK FOR MORE MARKDOWN”.\r\n",
    "</div>iv>"
   ]
  },
  {
   "cell_type": "markdown",
   "id": "a59745c8-bd76-47e7-a89e-e25625799fe5",
   "metadata": {},
   "source": [
    "$e^{i\\pi} + 1 = 0$"
   ]
  },
  {
   "cell_type": "markdown",
   "id": "365c264f-a92f-4fd6-acaa-0fb48acae272",
   "metadata": {},
   "source": [
    "\\begin{equation}\r\n",
    "e^x=\\sum_{i=0}^\\infty \\frac{1}{i!}x^i\r\n",
    "\\end{equation}"
   ]
  },
  {
   "cell_type": "markdown",
   "id": "332ceadf-1e7b-437e-a354-8c000e3dd919",
   "metadata": {},
   "source": [
    "## Json in python"
   ]
  },
  {
   "cell_type": "code",
   "execution_count": 30,
   "id": "35bbd36e-e2a1-4f2c-9379-f2eb344a8ab1",
   "metadata": {},
   "outputs": [
    {
     "data": {
      "text/plain": [
       "'C:\\\\Users\\\\sraji\\\\Desktop\\\\python'"
      ]
     },
     "execution_count": 30,
     "metadata": {},
     "output_type": "execute_result"
    }
   ],
   "source": [
    "%pwd\n"
   ]
  },
  {
   "cell_type": "code",
   "execution_count": 50,
   "id": "f01f0c28-a457-4219-9069-3a874025ffe3",
   "metadata": {},
   "outputs": [
    {
     "name": "stdout",
     "output_type": "stream",
     "text": [
      "{\"rajib\": {\"name\": \"Rajib\", \"address\": \"krishnagar\", \"phone\": \"9734992862\"}, \"Ankita\": {\"name\": \"Ankita\", \"address\": \"krishnagar\", \"phone\": \"6287101386\"}}\n",
      "<class 'str'>\n",
      "<class 'dict'>\n",
      "6287101386\n",
      "{'name': 'Rajib', 'address': 'krishnagar', 'phone': '9734992862'}\n",
      "{'name': 'Ankita', 'address': 'krishnagar', 'phone': '6287101386'}\n"
     ]
    }
   ],
   "source": [
    "import json\n",
    "user={}\n",
    "user[\"rajib\"] = {\n",
    "    'name' : \"Rajib\",\n",
    "     'address' : \"krishnagar\",\n",
    "     'phone' : '9734992862'\n",
    "}\n",
    "\n",
    "user[\"Ankita\"] = {\n",
    "     'name' : \"Ankita\",\n",
    "     'address' : \"krishnagar\",\n",
    "     'phone' : '6287101386'\n",
    "}\n",
    "s = json.dumps(user)\n",
    "#print(s)\n",
    "\n",
    "# with open(\"C:\\\\Users\\\\sraji\\\\Desktop\\\\python\\\\user.txt\",\"w\") as f :  # writing the file\n",
    "#     f.write(s)\n",
    "\n",
    "with open(\"C:\\\\Users\\\\sraji\\\\Desktop\\\\python\\\\user.txt\",\"r\") as f :    # reading the file\n",
    "     u=f.read()\n",
    "print(u)\n",
    "print(type(u))  # u is string\n",
    "\n",
    "a = json.loads(u)  # a is dictonary\n",
    "print(type(a))\n",
    "print(user[\"Ankita\"][\"phone\"])\n",
    "\n",
    "for i in a :\n",
    "    print(a[i])\n",
    "\n",
    "    "
   ]
  },
  {
   "cell_type": "markdown",
   "id": "f6c1b443-8b1a-4049-9af5-690c1d5b5a77",
   "metadata": {},
   "source": [
    "## Reading and writing file"
   ]
  },
  {
   "cell_type": "code",
   "execution_count": 6,
   "id": "2c7f8ac2-7576-4a5e-80d1-e108e2dc5dab",
   "metadata": {},
   "outputs": [],
   "source": [
    "st = [\"hi\", \"my name is rajib\", \"I live in kng\"]\n",
    "with open(\"C:\\\\Users\\\\sraji\\\\Desktop\\\\python\\\\create_text_file_in_python.txt\",\"w\") as f :\n",
    "    for i in st :\n",
    "        f.write(\" \" + i)\n",
    "     "
   ]
  },
  {
   "cell_type": "code",
   "execution_count": 9,
   "id": "9d1bee20-145e-4c1a-861d-35b20c713530",
   "metadata": {},
   "outputs": [
    {
     "name": "stdout",
     "output_type": "stream",
     "text": [
      "<class 'str'>\n",
      "34\n",
      " hi my name is rajib I live in kng"
     ]
    }
   ],
   "source": [
    "with open(\"C://Users//sraji//Desktop//python/create_text_file_in_python.txt\",\"r\") as f :\n",
    "    s = f.read()\n",
    "print(type(s))\n",
    "print(len(s))\n",
    "for line in s :\n",
    "    print(line,end=\"\")\n"
   ]
  },
  {
   "cell_type": "markdown",
   "id": "2c7127d0-c43f-474c-9b88-e7ec704e4d85",
   "metadata": {},
   "source": [
    "## Main Function"
   ]
  },
  {
   "cell_type": "code",
   "execution_count": 57,
   "id": "ff6329da-c2da-4fd4-bd28-c9a9f85ed3c7",
   "metadata": {},
   "outputs": [
    {
     "name": "stdout",
     "output_type": "stream",
     "text": [
      "90\n"
     ]
    }
   ],
   "source": [
    "def cal_area(len,bre) :\n",
    "    return len * bre\n",
    "   \n",
    "if __name__ == \"__main__\" : # double under score is required\n",
    "    a = cal_area(9,10)\n",
    "    print(a)"
   ]
  },
  {
   "cell_type": "markdown",
   "id": "c974b41e-ad49-4ef7-86fc-67ea50af3567",
   "metadata": {},
   "source": [
    "## Exception handling"
   ]
  },
  {
   "cell_type": "code",
   "execution_count": 36,
   "id": "9629e1cd-4d39-481d-88d7-96f4716fcbf1",
   "metadata": {},
   "outputs": [
    {
     "name": "stdin",
     "output_type": "stream",
     "text": [
      "Enter any number 5\n",
      "Enter any number 0\n"
     ]
    },
    {
     "name": "stdout",
     "output_type": "stream",
     "text": [
      "Division by zero division by zero\n",
      "Error\n",
      "hi\n"
     ]
    }
   ],
   "source": [
    "x=int(input(\"Enter any number\"))\n",
    "y=int(input(\"Enter any number\"))\n",
    "try :\n",
    "    a= x / y\n",
    "except Exception as e :\n",
    "    print(\"Division by zero\",e)\n",
    "    a = \"Error\"\n",
    "\n",
    "print(a)\n",
    "print(\"hi\")"
   ]
  },
  {
   "cell_type": "markdown",
   "id": "55ccd34f-b8c2-45fb-acd8-4be6c935a9de",
   "metadata": {},
   "source": [
    "## Multiple Exception handling"
   ]
  },
  {
   "cell_type": "code",
   "execution_count": 1,
   "id": "b2d7b050-dc2c-4ed6-a3a4-1c25800e6c5f",
   "metadata": {},
   "outputs": [
    {
     "name": "stdin",
     "output_type": "stream",
     "text": [
      "Enter any number 5\n",
      "Enter any number 0\n"
     ]
    },
    {
     "name": "stdout",
     "output_type": "stream",
     "text": [
      "This is in Division by zero division by zero\n",
      "None\n"
     ]
    }
   ],
   "source": [
    "x= input(\"Enter any number\")\n",
    "y= input(\"Enter any number\")\n",
    "try :\n",
    "    a= int(x) / int(y)\n",
    "except Exception as e :\n",
    "    print(\"This is in Division by zero\",e)\n",
    "    a = None\n",
    "except TypeError as e :\n",
    "   # print(\"type of exception : \", type(e).__name__)\n",
    "    print(\"This is in Type Error\")\n",
    "    a = None\n",
    "   \n",
    "print(a)\n"
   ]
  },
  {
   "cell_type": "markdown",
   "id": "7c388615-2582-4722-89ab-f23b90538d5a",
   "metadata": {},
   "source": [
    "## F string"
   ]
  },
  {
   "cell_type": "code",
   "execution_count": 55,
   "id": "ca86cfc7-ed7c-4ae1-94f8-29ce02eb1458",
   "metadata": {},
   "outputs": [
    {
     "name": "stdout",
     "output_type": "stream",
     "text": [
      "Hi my name is Rajib and I live in India \n",
      "cost of the product is  40.17\n"
     ]
    }
   ],
   "source": [
    "name=\"Rajib\"\n",
    "country = \"India\"\n",
    "\n",
    "print(f\"Hi my name is {name} and I live in {country} \")\n",
    "\n",
    "price=40.16856\n",
    "txt = f\"cost of the product is {price : .2f}\"\n",
    "print(txt)\n"
   ]
  },
  {
   "cell_type": "markdown",
   "id": "cfd87451-3763-4990-95f9-0596c5fd8fd5",
   "metadata": {},
   "source": [
    "## Object Oriented Programing"
   ]
  },
  {
   "cell_type": "code",
   "execution_count": 6,
   "id": "3ee48c9f-ead3-4b89-b64d-fc4724a1a8af",
   "metadata": {},
   "outputs": [
    {
     "name": "stdout",
     "output_type": "stream",
     "text": [
      "hi, i am Rajib and my occupation is student\n",
      "hi, i am Ankita and my occupation is student\n"
     ]
    }
   ],
   "source": [
    "class person :\n",
    "    def __init__(self, n, o):   # constructor it is called every time when ever object is created for that class\n",
    "        #print(\"Hey I am a person\")\n",
    "        self.name = n\n",
    "        self.ocuupation = o\n",
    "    def info(self) :\n",
    "        print(f\"hi, i am {self.name} and my occupation is {self.ocuupation}\")\n",
    "\n",
    "a = person(\"Rajib\", \"student\")  # object of class person\n",
    "b = person(\"Ankita\", \"student\")\n",
    "\n",
    "a.info()\n",
    "b.info()\n",
    "\n",
    "\n",
    "     "
   ]
  },
  {
   "cell_type": "markdown",
   "id": "a261cef5-60b6-4eb9-8931-85d9e4714c63",
   "metadata": {},
   "source": [
    "## Inheritance"
   ]
  },
  {
   "cell_type": "code",
   "execution_count": 12,
   "id": "5f8b0df7-009f-4409-8a29-4021772d5860",
   "metadata": {},
   "outputs": [
    {
     "name": "stdout",
     "output_type": "stream",
     "text": [
      "I am car\n",
      "general usage : transport\n",
      "travel long distance\n",
      "I am bike \n",
      "general usage : transport\n",
      "travel short distance\n"
     ]
    }
   ],
   "source": [
    "class vehicle :\n",
    "    def gen_usage(self):\n",
    "        print(\"general usage : transport\")\n",
    "\n",
    "class car(vehicle) :\n",
    "    def __init__(self) :\n",
    "         print(\"I am car\")\n",
    "         self.wheel=4\n",
    "         self.roof=True\n",
    "    def specific_usage(self):\n",
    "        print(\"travel long distance\")\n",
    "   \n",
    "class bike(vehicle):\n",
    "    def __init__(self):\n",
    "        print(\"I am bike \")\n",
    "        self.wheel = 2\n",
    "        self.roof = False\n",
    "    def specific_usage(self):\n",
    "        print(\"travel short distance\")\n",
    "\n",
    "c = car()\n",
    "c.gen_usage()\n",
    "c.specific_usage()\n",
    "\n",
    "m = bike()\n",
    "m.gen_usage()\n",
    "m.specific_usage()\n",
    "\n",
    "\n",
    "   \n"
   ]
  },
  {
   "cell_type": "markdown",
   "id": "6833d759-9fa0-49b5-9053-331bd81f92ac",
   "metadata": {},
   "source": [
    "## Multile Inheritance"
   ]
  },
  {
   "cell_type": "code",
   "execution_count": 13,
   "id": "65711522-bfac-4522-87f4-4dddde8f2103",
   "metadata": {},
   "outputs": [
    {
     "name": "stdout",
     "output_type": "stream",
     "text": [
      "I enjoy gardening\n",
      "I love cooking\n",
      "I love coding\n"
     ]
    }
   ],
   "source": [
    "class father:\n",
    "    def gardening(self):\n",
    "        print(\"I enjoy gardening\")\n",
    "\n",
    "class mother:\n",
    "    def cooking(self):\n",
    "        print(\"I love cooking\")\n",
    "\n",
    "\n",
    "class child(father,mother):\n",
    "    def coding(self):\n",
    "        print(\"I love coding\")\n",
    "\n",
    "c= child()\n",
    "c.gardening()\n",
    "c.cooking()\n",
    "c.coding()\n"
   ]
  },
  {
   "cell_type": "markdown",
   "id": "c4703e40-836d-46d6-83cb-d02a9c9d4543",
   "metadata": {},
   "source": [
    "## Raise Exception And Finally"
   ]
  },
  {
   "cell_type": "code",
   "execution_count": 14,
   "id": "bb06d8c7-6df2-4d3a-8a34-13c813570b9b",
   "metadata": {},
   "outputs": [
    {
     "name": "stdout",
     "output_type": "stream",
     "text": [
      "memory error\n"
     ]
    }
   ],
   "source": [
    "try :\n",
    "    raise MemoryError(\"memory error\")\n",
    "except MemoryError as e :\n",
    "    print(e)"
   ]
  },
  {
   "cell_type": "markdown",
   "id": "c03cc900-46fa-42d5-bba5-1745d9318d17",
   "metadata": {},
   "source": [
    "## we are defing our new exception from \"Exception class\""
   ]
  },
  {
   "cell_type": "code",
   "execution_count": 15,
   "id": "26dee591-1322-4365-b02d-923b62e05d8d",
   "metadata": {},
   "outputs": [
    {
     "name": "stdout",
     "output_type": "stream",
     "text": [
      "accident occur\n"
     ]
    }
   ],
   "source": [
    "class accident(Exception) :\n",
    "    def __init__(self,msg):\n",
    "        self.msg = msg\n",
    "    def handle_accident(self):\n",
    "        print(\"accident occur\")\n",
    "\n",
    "try :\n",
    "    raise accident(\"crash between two cars\")\n",
    "except accident as e:\n",
    "    e.handle_accident()"
   ]
  },
  {
   "cell_type": "markdown",
   "id": "90984c90-9aa8-4fe4-a3d2-de64034be1c9",
   "metadata": {},
   "source": [
    "## List Comprehensions"
   ]
  },
  {
   "cell_type": "code",
   "execution_count": 2,
   "id": "555137e4-f64b-4ece-8dc5-5dc36e2353f6",
   "metadata": {},
   "outputs": [
    {
     "name": "stdout",
     "output_type": "stream",
     "text": [
      "[2, 4, 6, 8, 10]\n",
      "<class 'list'>\n"
     ]
    }
   ],
   "source": [
    "num = [1,2,3,4,5,6,9,8,7,10]\n",
    "even = [i for i in num if i%2==0]\n",
    "print(even)\n",
    "print(type(even))"
   ]
  },
  {
   "cell_type": "code",
   "execution_count": 5,
   "id": "1f72db53-5e15-44b2-b67b-7359d29a05b3",
   "metadata": {},
   "outputs": [
    {
     "name": "stdout",
     "output_type": "stream",
     "text": [
      "[2, 4, 6, 8, 10]\n"
     ]
    }
   ],
   "source": [
    "sq_num_even = [i for i in num if (i**2)%2==0 ]\n",
    "print(sq_num_even)"
   ]
  },
  {
   "cell_type": "code",
   "execution_count": 8,
   "id": "fcf41841-4753-4149-bc19-83293dfad254",
   "metadata": {},
   "outputs": [
    {
     "name": "stdout",
     "output_type": "stream",
     "text": [
      "{2, 4, 6, 8, 10}\n"
     ]
    }
   ],
   "source": [
    "s = set([1,2,3,4,5,6,9,8,7,10,1,2])\n",
    "even_set = {i for i in s if i%2==0}\n",
    "print(even_set)"
   ]
  },
  {
   "cell_type": "markdown",
   "id": "9a512c49-4801-408b-8c64-a6f97f0c8f97",
   "metadata": {},
   "source": [
    "## Dict Comprehension Using Zip Function"
   ]
  },
  {
   "cell_type": "code",
   "execution_count": 2,
   "id": "4e1e4648-8da1-43a9-bdc3-681a5e5cd18e",
   "metadata": {},
   "outputs": [
    {
     "name": "stdout",
     "output_type": "stream",
     "text": [
      "('Mumbai', 'India')\n",
      "('New York', 'America')\n",
      "('Paris', 'France')\n",
      "('Krishnagar', 'India')\n",
      "<class 'tuple'>\n"
     ]
    }
   ],
   "source": [
    "cities = ('Mumbai', 'New York', 'Paris','Krishnagar')\n",
    "countries = ('India','America','France', 'India')\n",
    "z = zip(cities,countries)\n",
    "for i in z:\n",
    "    print(i)\n",
    "print(type(i))"
   ]
  },
  {
   "cell_type": "code",
   "execution_count": 3,
   "id": "fabb48a3-71e8-48bd-ba14-0669b61a31dd",
   "metadata": {},
   "outputs": [
    {
     "name": "stdout",
     "output_type": "stream",
     "text": [
      "{'Mumbai': 'India', 'New York': 'America', 'Paris': 'France', 'Krishnagar': 'India'}\n",
      "<class 'dict'>\n"
     ]
    }
   ],
   "source": [
    "d = {x:y for x,y in zip(cities,countries)}\n",
    "print(d)\n",
    "print(type(d))"
   ]
  },
  {
   "cell_type": "markdown",
   "id": "79f5befc-9363-4553-ac5b-a127731831fa",
   "metadata": {},
   "source": [
    "## object oriented programming\n",
    "# Classes"
   ]
  },
  {
   "cell_type": "code",
   "execution_count": 19,
   "id": "e40ed9a8-e7ae-4b7a-b2cf-1b54c79f6262",
   "metadata": {},
   "outputs": [
    {
     "name": "stdout",
     "output_type": "stream",
     "text": [
      "-1.5\n",
      "-1.5\n",
      "(5,-6)\n"
     ]
    }
   ],
   "source": [
    "class coordinate() :\n",
    "    def __init__(self,x,y):\n",
    "        self.x = x\n",
    "        self.y = y\n",
    "    def slope_of_two_points(self, obj) :\n",
    "         p=  self.y - obj.y \n",
    "         d=  self.x - obj.x \n",
    "         return p/d\n",
    "    def __str__(self) :       # for printing object \n",
    "        return \"(\"+ str(self.x)+\",\"+str(self.y)+\")\"\n",
    "        \n",
    "        \n",
    "       \n",
    "        \n",
    "\n",
    "f = coordinate(-5,9)\n",
    "c = coordinate(5,-6)\n",
    "print(coordinate.slope_of_two_points(f,c))\n",
    "print(c.slope_of_two_points(f))\n",
    "print(c.__str__())"
   ]
  },
  {
   "cell_type": "code",
   "execution_count": 20,
   "id": "53d22b10-5da2-489d-afc6-070ca8d388c9",
   "metadata": {},
   "outputs": [
    {
     "name": "stdout",
     "output_type": "stream",
     "text": [
      "True\n"
     ]
    }
   ],
   "source": [
    "print(isinstance(c,coordinate)) # checks if object is instance of that class\n"
   ]
  },
  {
   "cell_type": "markdown",
   "id": "82580512-0adb-42bd-bf60-cad22a61af55",
   "metadata": {},
   "source": [
    "## fraction Manupulation \n"
   ]
  },
  {
   "cell_type": "code",
   "execution_count": 27,
   "id": "6f109e05-09bc-41e1-9770-7fd34c316f66",
   "metadata": {},
   "outputs": [
    {
     "name": "stdout",
     "output_type": "stream",
     "text": [
      "6/8\n",
      "2/8\n"
     ]
    }
   ],
   "source": [
    "class fraction() :\n",
    "    def __init__(self,x,y):\n",
    "        self.numerator=x\n",
    "        self.denominator=y\n",
    "    def __str__(self):\n",
    "        return str(self.numerator)+\"/\"+str(self.denominator)\n",
    "    def fraction_add(self,other):\n",
    "        nu= self.numerator*other.denominator +other.numerator*self.denominator\n",
    "        de= self.denominator * other.denominator\n",
    "        return fraction(nu,de)\n",
    "    def fraction_subtraction(self,other):\n",
    "        nu= self.numerator*other.denominator -other.numerator*self.denominator\n",
    "        de= self.denominator * other.denominator\n",
    "        return fraction(nu,de)\n",
    "    \n",
    "\n",
    "\n",
    "\n",
    "\n",
    "\n",
    "a=fraction(1,2)\n",
    "b=fraction(1,4)\n",
    "\n",
    "print(a.fraction_add(b))\n",
    "print(a.fraction_subtraction(b))"
   ]
  },
  {
   "cell_type": "markdown",
   "id": "c416e809-74c4-4a3d-98fe-0c260ef87b8b",
   "metadata": {},
   "source": [
    "## some other exaples, hoe to access data out side the class :\n"
   ]
  },
  {
   "cell_type": "code",
   "execution_count": 62,
   "id": "c20eb66a-0494-4558-abac-fcc0cb80cabc",
   "metadata": {},
   "outputs": [
    {
     "name": "stdout",
     "output_type": "stream",
     "text": [
      "myAnimal is rani and its age is  8 type: None\n",
      "I am in class mew\n",
      "myAnimal is another cat and its age is  10 type: cat\n"
     ]
    }
   ],
   "source": [
    "class animal():\n",
    "    def __init__(self,x):\n",
    "        self.age=x\n",
    "        self.name=None\n",
    "        self.type=None\n",
    "    \n",
    "    def set_name(self,name=\"\"):\n",
    "         self.name=name\n",
    "         return self.name\n",
    "\n",
    "        \n",
    "    def set_newage(self,x):\n",
    "        return self.age\n",
    "\n",
    "    def get_age(self):\n",
    "        return self.age\n",
    "        \n",
    "    def get_type(self):\n",
    "        return self.type\n",
    "        \n",
    "    def get_name(self):\n",
    "        return self.name\n",
    "        \n",
    "    def __str__(self):\n",
    "        return \"myAnimal is\"+\" \" +str(self.get_name())+ \" \"+\"and its age is \"+\" \"+str(self.get_age())+\" \"+\"type:\"+\" \"+str(self.get_type())\n",
    " \n",
    "\n",
    "ani=animal(8)\n",
    "ani.set_name(\"rani\")\n",
    "#print(ani.get_name())\n",
    "print(ani)\n",
    "\n",
    "class cat(animal):\n",
    "    def set_type(self,type=\"\"):\n",
    "        self.type=type\n",
    "\n",
    "\n",
    "class mew (cat):\n",
    "    def speak(self):\n",
    "        print(\"I am in class mew\")\n",
    "    \n",
    "\n",
    "c=cat(10)\n",
    "c.set_name(\"pussy\")\n",
    "c.set_type(\"cat\")\n",
    "\n",
    "\n",
    "e=mew(10)\n",
    "e.speak()\n",
    "e.set_name(\"another cat\")\n",
    "e.set_type(\"cat\")\n",
    "print(e)\n",
    "\n",
    "    \n",
    "        "
   ]
  },
  {
   "cell_type": "code",
   "execution_count": null,
   "id": "56cead1c-910f-4906-bb41-b059c8f3d253",
   "metadata": {},
   "outputs": [],
   "source": []
  },
  {
   "cell_type": "code",
   "execution_count": null,
   "id": "927722e1-034a-4ad7-a608-3ed5a34ce4b8",
   "metadata": {},
   "outputs": [],
   "source": []
  }
 ],
 "metadata": {
  "kernelspec": {
   "display_name": "Python 3 (ipykernel)",
   "language": "python",
   "name": "python3"
  },
  "language_info": {
   "codemirror_mode": {
    "name": "ipython",
    "version": 3
   },
   "file_extension": ".py",
   "mimetype": "text/x-python",
   "name": "python",
   "nbconvert_exporter": "python",
   "pygments_lexer": "ipython3",
   "version": "3.11.5"
  }
 },
 "nbformat": 4,
 "nbformat_minor": 5
}
